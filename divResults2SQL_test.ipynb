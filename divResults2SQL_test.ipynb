{
 "cells": [
  {
   "cell_type": "code",
   "execution_count": 6,
   "metadata": {},
   "outputs": [],
   "source": [
    "from config import db_url\n",
    "import pandas as pd\n",
    "from sqlalchemy import create_engine, text\n",
    "import os\n",
    "from datetime import datetime\n"
   ]
  },
  {
   "cell_type": "code",
   "execution_count": 7,
   "metadata": {},
   "outputs": [
    {
     "name": "stdout",
     "output_type": "stream",
     "text": [
      "--- 2024-10-24 19:39:28.055892 --- Starting the results2SQL script\n",
      "\n"
     ]
    }
   ],
   "source": [
    "\n",
    "today  = str(datetime.today())\n",
    "print(f\"--- {today} --- Starting the results2SQL script\\n\")\n",
    "\n",
    "dividendStocksResults_filepath = os.path.join('/Users/Roho11/Documents/GitHub/DividendGrowthPicks', \"dividendStocksResults\") \n",
    "dividendStocksAllData_filepath = os.path.join('/Users/Roho11/Documents/GitHub/DividendGrowthPicks', \"dividendStocksAllData\") \n",
    "\n",
    "results_files = os.listdir(dividendStocksResults_filepath)\n",
    "alldata_files = os.listdir(dividendStocksAllData_filepath)\n",
    "\n",
    "valid_results_files = []\n",
    "for res in results_files:\n",
    "    if res.startswith('DividendStockResults'):\n",
    "        valid_results_files.append(res)\n",
    "        \n",
    "valid_alldata_files = []\n",
    "for ad in alldata_files:\n",
    "    if ad.startswith('DividendStockData'):\n",
    "        valid_alldata_files.append(ad)\n",
    "        \n",
    "valid_results_files.sort(reverse=True)\n",
    "valid_alldata_files.sort(reverse=True)\n",
    "\n",
    "results_date = str(valid_results_files[0]).split(' ')[1].split('.')[0]\n",
    "alldata_date = str(valid_alldata_files[0]).split(' ')[1].split('.')[0]\n",
    "today_date   = today.split(' ')[0]\n"
   ]
  },
  {
   "cell_type": "code",
   "execution_count": 11,
   "metadata": {},
   "outputs": [
    {
     "data": {
      "text/plain": [
       "['DividendStockResults 2024-10-24.xlsx',\n",
       " 'DividendStockResults 2024-10-23.xlsx',\n",
       " 'DividendStockResults 2024-10-17.xlsx',\n",
       " 'DividendStockResults 2024-10-16.xlsx',\n",
       " 'DividendStockResults 2024-10-09.xlsx',\n",
       " 'DividendStockResults 2024-10-03.xlsx',\n",
       " 'DividendStockResults 2024-10-02.xlsx',\n",
       " 'DividendStockResults 2024-09-25.xlsx',\n",
       " 'DividendStockResults 2024-09-18.xlsx',\n",
       " 'DividendStockResults 2024-09-11.xlsx',\n",
       " 'DividendStockResults 2024-09-07.xlsx']"
      ]
     },
     "execution_count": 11,
     "metadata": {},
     "output_type": "execute_result"
    }
   ],
   "source": [
    "dividendStocksResults_filepath\n",
    "valid_results_files"
   ]
  },
  {
   "cell_type": "code",
   "execution_count": 8,
   "metadata": {},
   "outputs": [
    {
     "name": "stdout",
     "output_type": "stream",
     "text": [
      "Both excel files from today found, inserting to database.\n",
      "Results data inserted successfully.\n",
      "last_results data inserted successfully.\n",
      "Number of rows inserted into 'fundamentals': 3\n"
     ]
    }
   ],
   "source": [
    "\n",
    "if results_date == today_date and alldata_date == today_date:\n",
    "    print('Both excel files from today found, inserting to database.')\n",
    "\n",
    "    last_results_file = os.path.join(dividendStocksResults_filepath,valid_results_files[0])\n",
    "    last_alldata_file = os.path.join(dividendStocksAllData_filepath,valid_alldata_files[0])\n",
    "\n",
    "    results_df = pd.read_excel(last_results_file)\n",
    "    alldata_df = pd.read_excel(last_alldata_file, index_col='Unnamed: 0')\n",
    "\n",
    "    #PostgreSQL requires lowercase or it sets column names into \" \"\n",
    "    results_df.columns = results_df.columns.str.lower()\n",
    "    alldata_df.columns = alldata_df.columns.str.lower()\n",
    "\n",
    "    #Results data to SQL\n",
    "    engine        = create_engine(db_url)\n",
    "    results_table = 'results'\n",
    "    results_df.to_sql(results_table, engine, if_exists='append', index=False)\n",
    "\n",
    "    print(\"Results data inserted successfully.\")\n",
    "\n",
    "    #Storing data into last_results\n",
    "\n",
    "    truncate_query = \"\"\"\n",
    "        TRUNCATE TABLE last_results\n",
    "    \"\"\"\n",
    "\n",
    "    with engine.begin() as connection:\n",
    "        result = connection.execute(text(truncate_query))\n",
    "\n",
    "    results_table = 'last_results'\n",
    "    results_df.to_sql(results_table, engine, if_exists='append', index=False)\n",
    "\n",
    "    print(\"last_results data inserted successfully.\")\n",
    "\n",
    "    # Fundamentals (all_data) to SQL\n",
    "    alldata_temp_table = 'fundamentals_temp'\n",
    "    alldata_df.to_sql(alldata_temp_table, engine, if_exists='replace', index=False)\n",
    "\n",
    "    # Manage duplicates and insert data\n",
    "    query = \"\"\"\n",
    "        INSERT INTO fundamentals (lastupdated, sector, industry, gicsector, gicindustry, marketcapmln, marketcapmlnusd, marketcapname, eps, beta, pe, ebitda, forwardpe, forwardeps, payoutratio, divstreak, divgrowth1y, divgrowth3y, divsafetyscore, divsafetyscorelocked, lastquaterepssurprise, lastquaterrevenuesurprise, nextquaterepsestimate, nextquaterrevenueestimate, nextearningsreportdate, lastearningsreportdate, nextearningsreportreportingdate, lastearningsreportreportingdate, revenuegrowthyoy, netincomegrowthyoy, cashflowgrowthyoy, companydescription, ticker, ignorecurrency, nominal, currentnominal, realnominal, maturitydate, offerdate, effectiveyield, yieldcoupon, currentyield, modifcurrentyield, yieldtomaturity, yieldtomaturityportfolio, effectiveyieldportfolio, nkd, couponssumm, duration, listinglevel, countryiso, isin, bondtype, issuedate, term, dividendtax, lotsize, expenseratio, assetinfoid, currency, currentprice, prevcloseprice, lastdaygainsamount, lastdaygainspercent, divcurrency, nextdividenddate, exdividenddate, nextdividendpershare, divyieldfwd, isdivyieldttm, divperyearfwd, divpaidttm, divgrowth5y, divgrowthstreak, divfrequency, financialscurrency, marketcapcurrency, type, title, status, traceid)\n",
    "        SELECT lastupdated, sector, industry, gicsector, gicindustry, marketcapmln, marketcapmlnusd, marketcapname, eps, beta, pe, ebitda, forwardpe, forwardeps, payoutratio, divstreak, divgrowth1y, divgrowth3y, divsafetyscore, divsafetyscorelocked, lastquaterepssurprise, lastquaterrevenuesurprise, nextquaterepsestimate, nextquaterrevenueestimate, nextearningsreportdate, lastearningsreportdate, nextearningsreportreportingdate, lastearningsreportreportingdate, revenuegrowthyoy, netincomegrowthyoy, cashflowgrowthyoy, companydescription, ticker, ignorecurrency, nominal, currentnominal, realnominal, maturitydate, offerdate, effectiveyield, yieldcoupon, currentyield, modifcurrentyield, yieldtomaturity, yieldtomaturityportfolio, effectiveyieldportfolio, nkd, couponssumm, duration, listinglevel, countryiso, isin, bondtype, issuedate, term, dividendtax, lotsize, expenseratio, assetinfoid, currency, currentprice, prevcloseprice, lastdaygainsamount, lastdaygainspercent, divcurrency, nextdividenddate, exdividenddate, nextdividendpershare, divyieldfwd, isdivyieldttm, divperyearfwd, divpaidttm, divgrowth5y, divgrowthstreak, divfrequency, financialscurrency, marketcapcurrency, type, title, status, traceid\n",
    "        FROM fundamentals_temp\n",
    "        ON CONFLICT (ticker, lastupdated)\n",
    "        DO NOTHING;\n",
    "    \"\"\"\n",
    "\n",
    "    with engine.begin() as connection:\n",
    "        result = connection.execute(text(query))\n",
    "\n",
    "    # Get number of rows inserted\n",
    "    print(f\"Number of rows inserted into 'fundamentals': {result.rowcount}\")\n",
    "\n",
    "else:\n",
    "    print('Could not find todays results OR alldata excel file.')\n"
   ]
  },
  {
   "cell_type": "code",
   "execution_count": 12,
   "metadata": {},
   "outputs": [
    {
     "data": {
      "text/plain": [
       "'/Users/Roho11/Documents/GitHub/DividendGrowthPicks/dividendStocksResults/DividendStockResults 2024-10-24.xlsx'"
      ]
     },
     "execution_count": 12,
     "metadata": {},
     "output_type": "execute_result"
    }
   ],
   "source": [
    "last_results_file"
   ]
  },
  {
   "cell_type": "code",
   "execution_count": 9,
   "metadata": {},
   "outputs": [
    {
     "data": {
      "text/html": [
       "<div>\n",
       "<style scoped>\n",
       "    .dataframe tbody tr th:only-of-type {\n",
       "        vertical-align: middle;\n",
       "    }\n",
       "\n",
       "    .dataframe tbody tr th {\n",
       "        vertical-align: top;\n",
       "    }\n",
       "\n",
       "    .dataframe thead th {\n",
       "        text-align: right;\n",
       "    }\n",
       "</style>\n",
       "<table border=\"1\" class=\"dataframe\">\n",
       "  <thead>\n",
       "    <tr style=\"text-align: right;\">\n",
       "      <th></th>\n",
       "      <th>lastupdated</th>\n",
       "      <th>ticker</th>\n",
       "      <th>currentprice</th>\n",
       "      <th>sector</th>\n",
       "      <th>industry</th>\n",
       "      <th>companydescription</th>\n",
       "      <th>marketcapmln</th>\n",
       "      <th>marketcapname</th>\n",
       "      <th>eps</th>\n",
       "      <th>forwardeps</th>\n",
       "      <th>...</th>\n",
       "      <th>sharenum</th>\n",
       "      <th>divgrowthstreak_norm</th>\n",
       "      <th>divyieldfwd_norm</th>\n",
       "      <th>payoutratio_norm</th>\n",
       "      <th>freecashflowpayout_norm</th>\n",
       "      <th>inflation_norm1</th>\n",
       "      <th>inflation_norm3</th>\n",
       "      <th>inflation_norm5</th>\n",
       "      <th>inflation_norm</th>\n",
       "      <th>points</th>\n",
       "    </tr>\n",
       "  </thead>\n",
       "  <tbody>\n",
       "  </tbody>\n",
       "</table>\n",
       "<p>0 rows × 31 columns</p>\n",
       "</div>"
      ],
      "text/plain": [
       "Empty DataFrame\n",
       "Columns: [lastupdated, ticker, currentprice, sector, industry, companydescription, marketcapmln, marketcapname, eps, forwardeps, pe, payoutratio, divyieldfwd, divperyearfwd, divgrowth1y, divgrowth3y, divgrowth5y, divgrowthstreak, divfrequency, freecashflowpayout, freecashflow, sharenum, divgrowthstreak_norm, divyieldfwd_norm, payoutratio_norm, freecashflowpayout_norm, inflation_norm1, inflation_norm3, inflation_norm5, inflation_norm, points]\n",
       "Index: []\n",
       "\n",
       "[0 rows x 31 columns]"
      ]
     },
     "execution_count": 9,
     "metadata": {},
     "output_type": "execute_result"
    }
   ],
   "source": [
    "results_df"
   ]
  },
  {
   "cell_type": "code",
   "execution_count": null,
   "metadata": {},
   "outputs": [],
   "source": []
  }
 ],
 "metadata": {
  "kernelspec": {
   "display_name": ".venv",
   "language": "python",
   "name": "python3"
  },
  "language_info": {
   "codemirror_mode": {
    "name": "ipython",
    "version": 3
   },
   "file_extension": ".py",
   "mimetype": "text/x-python",
   "name": "python",
   "nbconvert_exporter": "python",
   "pygments_lexer": "ipython3",
   "version": "3.9.15"
  }
 },
 "nbformat": 4,
 "nbformat_minor": 2
}
